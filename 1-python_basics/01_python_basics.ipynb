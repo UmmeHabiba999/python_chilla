{
 "cells": [
  {
   "cell_type": "markdown",
   "metadata": {},
   "source": [
    "**Name:** Umme Habiba \\\n",
    "**Email:** ummyhabiba999@gmail.com"
   ]
  },
  {
   "cell_type": "markdown",
   "metadata": {},
   "source": [
    "**First Program with CODANICS**"
   ]
  },
  {
   "cell_type": "code",
   "execution_count": 1,
   "metadata": {},
   "outputs": [
    {
     "name": "stdout",
     "output_type": "stream",
     "text": [
      "Hello World\n",
      "We are learning Python with Dr.Aammar Tufail\n"
     ]
    }
   ],
   "source": [
    "print(\"Hello World\")\n",
    "print(\"We are learning Python with Dr.Aammar Tufail\")"
   ]
  },
  {
   "cell_type": "markdown",
   "metadata": {},
   "source": [
    "## 1- Python Operators\n",
    "\n",
    " **PEMDAS:**\n",
    "Paranthesis, Exponents, Multiply , Devide, Add , Subtract \\\n",
    "\n",
    "Left to Right sequesnce for M D and A S"
   ]
  },
  {
   "cell_type": "code",
   "execution_count": 2,
   "metadata": {},
   "outputs": [
    {
     "name": "stdout",
     "output_type": "stream",
     "text": [
      "5\n",
      "2\n",
      "12\n",
      "4.5\n",
      "4\n",
      "1\n",
      "32\n",
      "6.5\n"
     ]
    }
   ],
   "source": [
    "print(2+3)\n",
    "print(4-2)\n",
    "print(3*4)\n",
    "print(9/2)\n",
    "print(9//2) # // does the devision but returns the output in int\n",
    "print(45%2)\n",
    "print(2**5)   # exponent/power\n",
    "print(3**2/2*3/3+6-4)"
   ]
  },
  {
   "cell_type": "markdown",
   "metadata": {},
   "source": [
    "## 2- Python Strings"
   ]
  },
  {
   "cell_type": "code",
   "execution_count": 6,
   "metadata": {},
   "outputs": [
    {
     "name": "stdout",
     "output_type": "stream",
     "text": [
      "This is a string\n",
      "This is a string with double quotes\n",
      " What's Up!  \n",
      "This is \n",
      "a string \n",
      "with triple quotes\n"
     ]
    }
   ],
   "source": [
    "print('This is a string')  # single quote\n",
    "\n",
    " # to use apostrophe in sentences use double quotes\n",
    "print(\"This is a string with double quotes\")\n",
    "print(\" What's Up!  \")\n",
    "\n",
    "# now to add multiple lines/paragraph\n",
    "print('''This is \n",
    "a string \n",
    "with triple quotes''') "
   ]
  },
  {
   "cell_type": "markdown",
   "metadata": {},
   "source": [
    "## 3- Python Comments\n",
    "\n",
    "* use # to write comments between code\n",
    "* use ctrl+/ to turn a line(multiple line) into a comment\n",
    "* use the same command to comment-out the line/multiple lines"
   ]
  },
  {
   "cell_type": "code",
   "execution_count": 7,
   "metadata": {},
   "outputs": [],
   "source": [
    "# This is a comment"
   ]
  },
  {
   "cell_type": "markdown",
   "metadata": {},
   "source": [
    "## 4- Python Variables\n",
    "\n",
    "**Variables:** Objects contating specific values\n",
    "\n",
    "**Rules for variable Declaration**\n",
    "\n",
    "* Should contain letters, numbers or underscores\n",
    "* Don't start with numbers\n",
    "* spaces are not allowed\n",
    "* Don't use reserved keywords of python (break, mean etc)\n",
    "* Short and descriptive\n",
    "* Case sensitivity (try to use lowercase letters for ease)"
   ]
  },
  {
   "cell_type": "code",
   "execution_count": 9,
   "metadata": {},
   "outputs": [
    {
     "name": "stdout",
     "output_type": "stream",
     "text": [
      "2\n",
      "This is a string\n",
      "<class 'int'>\n",
      "<class 'str'>\n"
     ]
    }
   ],
   "source": [
    "x = 2       #here x is a variable that containg an integer value 2\n",
    "print(x)\n",
    "\n",
    "y = \"This is a string\" # String variable\n",
    "print(y)\n",
    "\n",
    "# Type of a variable\n",
    "print(type(x))\n",
    "print(type(y))"
   ]
  },
  {
   "cell_type": "code",
   "execution_count": 4,
   "metadata": {},
   "outputs": [
    {
     "name": "stdout",
     "output_type": "stream",
     "text": [
      "<class 'str'>\n",
      "this string has over write the first value 2\n"
     ]
    }
   ],
   "source": [
    "fruit_basket = 2\n",
    "fruit_basket = \"this string has over write the first value 2\"\n",
    "print(type(fruit_basket))\n",
    "print(fruit_basket)"
   ]
  },
  {
   "cell_type": "markdown",
   "metadata": {},
   "source": [
    "## 5- Python Input Variables"
   ]
  },
  {
   "cell_type": "code",
   "execution_count": 12,
   "metadata": {},
   "outputs": [
    {
     "name": "stdout",
     "output_type": "stream",
     "text": [
      "your fav fruit is:  mango\n",
      "Greetings! hiba\n",
      "Hello hiba You're still young\n"
     ]
    }
   ],
   "source": [
    "# Different ways to use input function\n",
    "\n",
    "fruit_basket = input(\"whats youe fav fruit?\")\n",
    "print(\"your fav fruit is: \" , fruit_basket)\n",
    "\n",
    "# second method \n",
    "\n",
    "name = input(\"What's your name?\")\n",
    "greetings = \"Greetings!\"\n",
    "print(greetings, name)\n",
    "\n",
    "# 3rd method\n",
    "name = input(\"Your name? \")\n",
    "age = input(\"Your age? \")\n",
    "print(\"Hello\", name, \"You're still young\")"
   ]
  },
  {
   "cell_type": "markdown",
   "metadata": {},
   "source": [
    "## 6- Python Type Conversion"
   ]
  },
  {
   "cell_type": "code",
   "execution_count": 6,
   "metadata": {},
   "outputs": [
    {
     "name": "stdout",
     "output_type": "stream",
     "text": [
      "7.34  The type of x is:  <class 'float'>\n",
      "25 Type of your age is:  <class 'str'>\n",
      "25 your age after explicit conversion:  <class 'int'>\n"
     ]
    }
   ],
   "source": [
    "x = 2\n",
    "y = 5.34\n",
    "\n",
    "\n",
    "# Implicit type conversion\n",
    "x = x + y \n",
    "print(x, \" The type of x is: \", type(x))\n",
    "\n",
    "# Explicit type conversion\n",
    "age = input(\"Your age is? \")\n",
    "print(age, \"Type of your age is: \", type(age))\n",
    "# converting age explicitly\n",
    "print(age, \"your age after explicit conversion: \", type(int(age)))"
   ]
  },
  {
   "cell_type": "markdown",
   "metadata": {},
   "source": [
    "## 7- Python if elif else "
   ]
  },
  {
   "cell_type": "markdown",
   "metadata": {},
   "source": [
    "**conditional Logics**"
   ]
  },
  {
   "cell_type": "code",
   "execution_count": 15,
   "metadata": {},
   "outputs": [
    {
     "name": "stdout",
     "output_type": "stream",
     "text": [
      "True\n",
      "False\n",
      "True\n"
     ]
    }
   ],
   "source": [
    "\n",
    "# equal to               ==\n",
    "# less than                <\n",
    "#greater than               >\n",
    "# less than or equal to    <=\n",
    "#greater than or equal to  >=\n",
    "# not equal                 !=\n",
    "\n",
    "\n",
    "print(4==4)\n",
    "print(4!=4)\n",
    "print(4>=4)"
   ]
  },
  {
   "cell_type": "code",
   "execution_count": 7,
   "metadata": {},
   "outputs": [
    {
     "name": "stdout",
     "output_type": "stream",
     "text": [
      "ali should go higher school\n"
     ]
    }
   ],
   "source": [
    "# Application of logical operators\n",
    "ali_age=8\n",
    "required_age=5\n",
    "\n",
    "if ali_age<=required_age:\n",
    "    print(\"ali can go to school\")\n",
    "elif ali_age>required_age:\n",
    "    print(\"ali should go higher school\")"
   ]
  },
  {
   "cell_type": "markdown",
   "metadata": {},
   "source": [
    "## 8- Python Functions"
   ]
  },
  {
   "cell_type": "code",
   "execution_count": 1,
   "metadata": {},
   "outputs": [
    {
     "name": "stdout",
     "output_type": "stream",
     "text": [
      "we are learning with codanics\n",
      "we are learning with codanics\n",
      "we are learning with codanics\n"
     ]
    }
   ],
   "source": [
    "# First Method to define a function\n",
    "\n",
    "def print_codanic():\n",
    "    print(\"we are learning with codanics\")\n",
    "    print(\"we are learning with codanics\")\n",
    "    print(\"we are learning with codanics\")\n",
    "    \n",
    "# calling function\n",
    "print_codanic()    "
   ]
  },
  {
   "cell_type": "code",
   "execution_count": 2,
   "metadata": {},
   "outputs": [
    {
     "name": "stdout",
     "output_type": "stream",
     "text": [
      "learning with codanics\n",
      "learning with codanics\n",
      "learning with codanics\n"
     ]
    }
   ],
   "source": [
    "# 2nd method to define a function\n",
    "\n",
    "def print_codanic():\n",
    "    text= \"learning with codanics\"\n",
    "    print(text)\n",
    "    print(text)\n",
    "    print(text)\n",
    "    \n",
    "print_codanic()"
   ]
  },
  {
   "cell_type": "code",
   "execution_count": 5,
   "metadata": {},
   "outputs": [
    {
     "name": "stdout",
     "output_type": "stream",
     "text": [
      "learn with CODANICS!\n",
      "learn with CODANICS!\n",
      "learn with CODANICS!\n"
     ]
    }
   ],
   "source": [
    "# 3rd method to define a function\n",
    "def print_codanics(text):\n",
    "    print(text)\n",
    "    print(text)\n",
    "    print(text)\n",
    " \n",
    "# calling function   \n",
    "print_codanics(\"learn with CODANICS!\")"
   ]
  },
  {
   "cell_type": "code",
   "execution_count": 10,
   "metadata": {},
   "outputs": [
    {
     "name": "stdout",
     "output_type": "stream",
     "text": [
      "ali can go to school\n"
     ]
    }
   ],
   "source": [
    "# function with if,elif, else\n",
    "\n",
    "required_age=5\n",
    "\n",
    "def school_calculator(age):\n",
    "    if age==required_age:\n",
    "        print(\"ali can go to school\")\n",
    "    \n",
    "    elif age<required_age:\n",
    "        print(\"ali should stay at home\")\n",
    "    \n",
    "    else:\n",
    "        print(\"Ali should go Higher school\")\n",
    "        \n",
    "school_calculator(5)"
   ]
  },
  {
   "cell_type": "code",
   "execution_count": 12,
   "metadata": {},
   "outputs": [
    {
     "name": "stdout",
     "output_type": "stream",
     "text": [
      "45\n"
     ]
    }
   ],
   "source": [
    "def future_age(age):\n",
    "    new_age = age + 20\n",
    "    return new_age\n",
    "\n",
    "print(future_age(25))"
   ]
  },
  {
   "cell_type": "markdown",
   "metadata": {},
   "source": [
    "## 9- Python Loops"
   ]
  },
  {
   "cell_type": "code",
   "execution_count": 8,
   "metadata": {},
   "outputs": [
    {
     "name": "stdout",
     "output_type": "stream",
     "text": [
      "0\n",
      "1\n",
      "2\n",
      "3\n",
      "4\n",
      "5\n"
     ]
    }
   ],
   "source": [
    "# While loop\n",
    "x = 0\n",
    "while x<=5:\n",
    "    print(x)\n",
    "    x = x+1"
   ]
  },
  {
   "cell_type": "code",
   "execution_count": 18,
   "metadata": {},
   "outputs": [
    {
     "name": "stdout",
     "output_type": "stream",
     "text": [
      "Mon\n",
      "Tue\n",
      "Wed\n",
      "Thu\n"
     ]
    }
   ],
   "source": [
    "# For loop using a list\n",
    "days = [\"Mon\", \"Tue\", \"Wed\", \"Thu\", \"Fri\", \"Sat\", \"Sun\"]\n",
    "\n",
    "for day in days:\n",
    "    if (day==\"Fri\"): break          #Break the entire Loop on that Day\n",
    "    print(day)"
   ]
  },
  {
   "cell_type": "code",
   "execution_count": 19,
   "metadata": {},
   "outputs": [
    {
     "name": "stdout",
     "output_type": "stream",
     "text": [
      "Mon\n",
      "Tue\n",
      "Wed\n",
      "Thu\n",
      "Sat\n",
      "Sun\n"
     ]
    }
   ],
   "source": [
    "# For loop using a list\n",
    "days = [\"Mon\", \"Tue\", \"Wed\", \"Thu\", \"Fri\", \"Sat\", \"Sun\"]\n",
    "\n",
    "for day in days:\n",
    "    if (day==\"Fri\"): continue       # it will skips the Day and continues with the rest\n",
    "    print(day)"
   ]
  },
  {
   "cell_type": "markdown",
   "metadata": {},
   "source": [
    "## 9- Import python  Libraries"
   ]
  },
  {
   "cell_type": "code",
   "execution_count": 10,
   "metadata": {},
   "outputs": [
    {
     "name": "stdout",
     "output_type": "stream",
     "text": [
      "value of pi is: 3.141592653589793\n",
      "mean is : 14.2\n"
     ]
    }
   ],
   "source": [
    "import math\n",
    "print(\"value of pi is:\" , math.pi)\n",
    "\n",
    "import statistics\n",
    "x=[20, 30, 10, 5, 6]\n",
    "print(\"mean is :\" , statistics.mean(x))"
   ]
  },
  {
   "cell_type": "code",
   "execution_count": 11,
   "metadata": {},
   "outputs": [
    {
     "data": {
      "text/plain": [
       "10"
      ]
     },
     "execution_count": 11,
     "metadata": {},
     "output_type": "execute_result"
    }
   ],
   "source": [
    "statistics.median(x)"
   ]
  },
  {
   "cell_type": "markdown",
   "metadata": {},
   "source": [
    "## 10- Troublshooting in Python"
   ]
  },
  {
   "cell_type": "code",
   "execution_count": 13,
   "metadata": {},
   "outputs": [],
   "source": [
    "# Syntax Error\n",
    "# print(we are learning python with Dr.Aammar)\n",
    "\n",
    "#Runtime Error:(Logical Error)\n",
    "# print(5/0)\n",
    "\n",
    "#Symantic Error\n",
    "\n",
    "# name = \"Hiba\"\n",
    "# print(\"Hello! name\")"
   ]
  },
  {
   "cell_type": "code",
   "execution_count": null,
   "metadata": {},
   "outputs": [],
   "source": []
  }
 ],
 "metadata": {
  "kernelspec": {
   "display_name": "Python 3.10.4 64-bit",
   "language": "python",
   "name": "python3"
  },
  "language_info": {
   "codemirror_mode": {
    "name": "ipython",
    "version": 3
   },
   "file_extension": ".py",
   "mimetype": "text/x-python",
   "name": "python",
   "nbconvert_exporter": "python",
   "pygments_lexer": "ipython3",
   "version": "3.10.4"
  },
  "orig_nbformat": 4,
  "vscode": {
   "interpreter": {
    "hash": "dbb56158ff56509327459026193bd02828d997d92d7d0729f27dd91cd3b059da"
   }
  }
 },
 "nbformat": 4,
 "nbformat_minor": 2
}
