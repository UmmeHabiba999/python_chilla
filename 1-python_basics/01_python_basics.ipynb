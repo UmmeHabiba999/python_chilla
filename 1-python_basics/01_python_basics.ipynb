{
 "cells": [
  {
   "cell_type": "markdown",
   "metadata": {},
   "source": [
    "## 1- Python Operators\n",
    "\n",
    " **PEMDAS:**\n",
    "Paranthesis, Exponents, Multiply , Devide, Add , Subtract"
   ]
  },
  {
   "cell_type": "code",
   "execution_count": null,
   "metadata": {},
   "outputs": [],
   "source": [
    "print(2+3)\n",
    "print(4-2)\n",
    "print(3*4)\n",
    "print(9/2)\n",
    "print(9//2) # // does the devision but returns the output in int\n",
    "print(45%2)\n",
    "print(2**5)   # exponent"
   ]
  },
  {
   "cell_type": "markdown",
   "metadata": {},
   "source": [
    "## 2- Python Strings"
   ]
  },
  {
   "cell_type": "code",
   "execution_count": null,
   "metadata": {},
   "outputs": [],
   "source": [
    "print('This is a string')\n",
    "\n",
    " # to use apostrophe in sentences use double quotes\n",
    "print(\"This is a string with double quotes\")\n",
    "# now to add multiple lines/paragraph\n",
    "print('''This is \n",
    "a string \n",
    "with triple quotes''') "
   ]
  },
  {
   "cell_type": "markdown",
   "metadata": {},
   "source": [
    "## 3- Python Comments\n",
    "\n",
    "* use # to write comments between code\n",
    "* use ctrl+/ to turn a line(multiple line) into a comment"
   ]
  },
  {
   "cell_type": "markdown",
   "metadata": {},
   "source": [
    "## 4- Python Variables\n",
    "\n",
    "**Rules for variable Declaration**\n",
    "\n",
    "* Should contain letters, numbers or underscores\n",
    "* Don't start with numbers\n",
    "* Don't use spaces\n",
    "* Don't use reserved keywords of python\n",
    "* Short and descriptive\n",
    "* Case sensitivity (use lowercase)"
   ]
  },
  {
   "cell_type": "code",
   "execution_count": null,
   "metadata": {},
   "outputs": [],
   "source": [
    "x = 2\n",
    "print(x)\n",
    "\n",
    "y = \"This is a string\" # String variable\n",
    "print(y)\n",
    "\n",
    "# Type/class of a variable\n",
    "print(type(x))\n",
    "print(type(y))"
   ]
  },
  {
   "cell_type": "code",
   "execution_count": null,
   "metadata": {},
   "outputs": [],
   "source": [
    "fruit_basket = 2\n",
    "fruit_basket = \"this string has over write the first value 2\"\n",
    "print(type(fruit_basket))\n",
    "print(fruit_basket)"
   ]
  },
  {
   "cell_type": "markdown",
   "metadata": {},
   "source": [
    "## 5- Python Input Variables"
   ]
  },
  {
   "cell_type": "code",
   "execution_count": null,
   "metadata": {},
   "outputs": [],
   "source": [
    "# Different ways to use input function\n",
    "\n",
    "fruit_basket = input(\"whats youe fav fruit?\")\n",
    "print(fruit_basket)\n",
    "\n",
    "# second method \n",
    "\n",
    "name = input(\"What's your name?\")\n",
    "greetings = \"Greetings!\"\n",
    "print(greetings, name)\n",
    "\n",
    "\n",
    "# 3rd method\n",
    "name = input(\"Your name? \")\n",
    "age = input(\"Your age? \")\n",
    "print(\"Hello\", name, \"You're still young\")"
   ]
  },
  {
   "cell_type": "markdown",
   "metadata": {},
   "source": [
    "## 6- Python Type Conversion"
   ]
  },
  {
   "cell_type": "code",
   "execution_count": null,
   "metadata": {},
   "outputs": [],
   "source": [
    "x = 2\n",
    "y = 5.34\n",
    "\n",
    "\n",
    "# Implicit type conversion\n",
    "x = x + y \n",
    "print(x, \" The type of x is: \", type(x))\n",
    "\n",
    "# Explicit type conversion\n",
    "age = input(\"Your age is? \")\n",
    "print(age, \"Type of your age is: \", type(age))\n",
    "# converting age explicitly\n",
    "print(age, \"your age after explicit conversion: \", type(int(age)))"
   ]
  },
  {
   "cell_type": "markdown",
   "metadata": {},
   "source": [
    "## 7- Python if elif else "
   ]
  },
  {
   "cell_type": "code",
   "execution_count": null,
   "metadata": {},
   "outputs": [],
   "source": [
    "ali_age=8\n",
    "required_age=5\n",
    "\n",
    "if ali_age<=required_age:\n",
    "    print(\"ali can go to school\")\n",
    "elif ali_age>required_age:\n",
    "    print(\"ali should go higher school\")"
   ]
  },
  {
   "cell_type": "markdown",
   "metadata": {},
   "source": [
    "## 8- Python Loops"
   ]
  },
  {
   "cell_type": "code",
   "execution_count": null,
   "metadata": {},
   "outputs": [],
   "source": [
    "# While loop\n",
    "x = 0\n",
    "while x<=5:\n",
    "    print(x)\n",
    "    x = x+1"
   ]
  },
  {
   "cell_type": "code",
   "execution_count": null,
   "metadata": {},
   "outputs": [],
   "source": [
    "# For loop using a list\n",
    "days = [\"Mon\", \"Tue\", \"Wed\", \"Thu\", \"Fri\", \"Sat\", \"Sun\"]\n",
    "\n",
    "for day in days:\n",
    "    #if (day==\"Fri\"): break          #Break the entire Loop on that Day\n",
    "    if (day==\"Fri\"): continue       # it will skips the Day and continues with the rest\n",
    "    print(day)"
   ]
  },
  {
   "cell_type": "markdown",
   "metadata": {},
   "source": [
    "## 9- Python Libraries"
   ]
  },
  {
   "cell_type": "code",
   "execution_count": null,
   "metadata": {},
   "outputs": [],
   "source": [
    "import math\n",
    "print(\"value of pi is:\" , math.pi)\n",
    "\n",
    "import statistics\n",
    "x=[20, 30, 10, 5, 6]\n",
    "print(\"mean is :\" , statistics.mean(x))"
   ]
  },
  {
   "cell_type": "code",
   "execution_count": null,
   "metadata": {},
   "outputs": [],
   "source": [
    "statistics.median(x)"
   ]
  },
  {
   "cell_type": "code",
   "execution_count": null,
   "metadata": {},
   "outputs": [],
   "source": []
  }
 ],
 "metadata": {
  "kernelspec": {
   "display_name": "Python 3.10.4 64-bit",
   "language": "python",
   "name": "python3"
  },
  "language_info": {
   "codemirror_mode": {
    "name": "ipython",
    "version": 3
   },
   "file_extension": ".py",
   "mimetype": "text/x-python",
   "name": "python",
   "nbconvert_exporter": "python",
   "pygments_lexer": "ipython3",
   "version": "3.10.4"
  },
  "orig_nbformat": 4,
  "vscode": {
   "interpreter": {
    "hash": "dbb56158ff56509327459026193bd02828d997d92d7d0729f27dd91cd3b059da"
   }
  }
 },
 "nbformat": 4,
 "nbformat_minor": 2
}
