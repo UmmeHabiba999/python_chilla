{
 "cells": [
  {
   "cell_type": "markdown",
   "metadata": {},
   "source": [
    "### -Statisticals Methods"
   ]
  },
  {
   "cell_type": "markdown",
   "metadata": {},
   "source": [
    "#### -Important steps before starting Data Analysis"
   ]
  },
  {
   "cell_type": "markdown",
   "metadata": {},
   "source": [
    "#### Step1 - Normality Test\n",
    "Tests to be used\n",
    "\n",
    "- Shapiro-Wilk Test (Specific(Reliable))\n",
    "- Kolmogorov-Smirnov Test (General(Less Reliable)) "
   ]
  },
  {
   "cell_type": "markdown",
   "metadata": {},
   "source": [
    "### Step2 - Homogeneity Test (The Variance of variables in the data are to be equal) \n",
    "#### Test to be used\n",
    "- Levene's Test \n",
    "\n",
    "### Step 3 - Purpose\n",
    "Know the Purpose of your Research Question \n",
    "\n",
    "#### Types of Purposes\n",
    "Comparison (Difference - How many people love Football) At least 2 groups ( Male vs Female - Diabetic level before and after taking insulin shot)\n",
    "\n",
    "Relationship (If one purpose likes Football, does he play as well?)\n",
    "\n",
    "- Connection\n",
    "\n",
    "- Correlation\n",
    "\n",
    "- Causation\n",
    "\n",
    "- Prediction\n",
    "\n",
    "Examples:\n",
    "\n",
    "Eating food will cause weight gain or not\n",
    "\n",
    "Covid Death rate in Unvaccinated people"
   ]
  },
  {
   "cell_type": "markdown",
   "metadata": {},
   "source": [
    "### Step4- Know your Data types\n",
    "\n",
    "- Categorical (Qualitiative (yes/no))\n",
    "- Continuous (Quantitative (0,1,2,3,4,5,....))\n"
   ]
  },
  {
   "cell_type": "markdown",
   "metadata": {},
   "source": [
    "### Step5- Statistical Types\n",
    "\n",
    "Choose statistical test from 3 main Families\n",
    "\n",
    "1- Chi-Squared Test (Comparison - Categorical variables only)\n",
    "\n",
    "2- t-Test/Anova (Comparison - Categorical variables and Continuous)\n",
    "\n",
    "3- Correlation (Relationship - Continuous only)\n",
    "\n",
    "- Pearson's Correlation (1 dependent and 1 independent variable).\n",
    "     Tells the relation between 2 variables.\n",
    "\n",
    "- Regression (1 dependent and 1 independent variable)\n",
    "\n",
    "    Gives a mathematical equation between the variables (to predict future values)\n"
   ]
  },
  {
   "cell_type": "markdown",
   "metadata": {},
   "source": [
    "### Assumptions about Data\n",
    "\n",
    "Data should be Normally distibuted (Gaussian Distributed)\n",
    "\n",
    "#### Normalize data\n",
    "\n",
    "If data is not Normally distributed, Normalise it by using Normalizing techniques\n",
    "\n",
    "- Min Max Normalization\n",
    "- Scaling to a range\n",
    "- square root Scaling\n",
    "- Log scaling\n",
    "- z-score scaling\n",
    "- SD normalization\n",
    "\n"
   ]
  },
  {
   "cell_type": "markdown",
   "metadata": {},
   "source": [
    "### Non Parametric Alternatives\n",
    "\n",
    "If data is not Normally distributed we have Non Parametric alternatives\n",
    "\n",
    "1- Chi-Squared Test (Comparison - Categorical variables only)\n",
    "\n",
    "Chi-Squared\n",
    "\n",
    "2- t-Test/Anova (Comparison - Categorical variables and Continuous)\n",
    "\n",
    "sample T-test :\n",
    "\n",
    "One Sample Wilcoxon Signed rant test\n",
    "\n",
    "sample T-test :\n",
    "\n",
    "- a. Unpaired T-test (Mann whitney#s U-Test)\n",
    "- b. Paired T-test (Wilcoxon)\n",
    "\n",
    "ANOVA (Krushal-Wallis test)\n",
    "\n",
    "3- Correlation (Relationship - Continuous only)\n",
    "\n",
    "- Pearson's Correlation (1 dependent and 1 independent variable)\n",
    "\n",
    "- (Spearman' Correlation) & (Kendall's Tau) Regression\n",
    "\n"
   ]
  },
  {
   "cell_type": "markdown",
   "metadata": {},
   "source": [
    "### Types of Anova\n",
    "\n",
    "ANOVA = Analysis of Variance (3+ levels or groups are involved)\n",
    "\n",
    "- One-way ANOVA (Even one group is significant you will get significant results, but doesnt tell you which one)\n",
    "\n",
    "- Two-way ANOVA (Two factors involved)\n",
    "\n",
    "- Repeated Measures of ANOVA (3+ paired groups, scale up of Paired T-test)\n",
    "\n",
    "- ANCOVA (Analyis of Covariance)\n",
    "\n",
    "- MANOVA Multivariate analysis of Variance\n",
    "\n",
    "- MANCOVA Multivariate analysis of Co-Variance\n",
    "\n"
   ]
  }
 ],
 "metadata": {
  "language_info": {
   "name": "python"
  },
  "orig_nbformat": 4
 },
 "nbformat": 4,
 "nbformat_minor": 2
}
