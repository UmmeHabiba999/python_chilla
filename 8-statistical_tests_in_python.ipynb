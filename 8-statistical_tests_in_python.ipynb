{
 "cells": [
  {
   "cell_type": "markdown",
   "metadata": {},
   "source": [
    "## 1-Shapiro Wilk Test \n",
    "( these tests are applied to check normality of data)\n",
    "\n",
    "Tests wether a data sample has a Gaussian Distribution\n",
    "\n",
    "**Assumptions**\n",
    "1. Observations in each sample are independent and identically distributed(iid).\n",
    "2. Interpretation\n",
    "\n",
    "H0 is Null hypothesis\n",
    "\n",
    "- H0 : the sample has a Gaussian/Normal distribution \\\n",
    "- H1 : the sample does not have a gaussian/normal distribution"
   ]
  },
  {
   "cell_type": "code",
   "execution_count": 1,
   "metadata": {},
   "outputs": [],
   "source": [
    "# pip install scipy\n",
    "\n",
    "# all statistics work will be with scipy library"
   ]
  },
  {
   "cell_type": "code",
   "execution_count": 2,
   "metadata": {},
   "outputs": [
    {
     "data": {
      "text/plain": [
       "ShapiroResult(statistic=0.8951009511947632, pvalue=0.19340917468070984)"
      ]
     },
     "execution_count": 2,
     "metadata": {},
     "output_type": "execute_result"
    }
   ],
   "source": [
    "# Example of the shapiro-wilk Normality Test\n",
    "\n",
    "from scipy.stats import shapiro\n",
    "data = [0.873 ,2.817,0.121, -0.945 , -0.055 , -1.436 , 0.360 ,-1.478 ,-1.637 , -1.869]\n",
    "\n",
    "# now first lets just check shapiro test on this data\n",
    "\n",
    "shapiro(data)\n",
    "\n",
    "#Dont really need to initialise variables like stat and p, shapiro test itself gives the values"
   ]
  },
  {
   "cell_type": "markdown",
   "metadata": {},
   "source": [
    "#### Following is the basic code to check the Normality of any data"
   ]
  },
  {
   "cell_type": "code",
   "execution_count": 3,
   "metadata": {},
   "outputs": [
    {
     "name": "stdout",
     "output_type": "stream",
     "text": [
      "stat=0.895 , p=0.193\n",
      "probably Gaussian/normal data\n"
     ]
    }
   ],
   "source": [
    "\n",
    "from scipy.stats import shapiro\n",
    "data = [0.873 ,2.817,0.121, -0.945 , -0.055 , -1.436 , 0.360 ,-1.478 ,-1.637 , -1.869]\n",
    "stat, p = shapiro(data)\n",
    "\n",
    "#print(\"stat :\" , stat)\n",
    "# print(\"p :\" , p)\n",
    "\n",
    "# print statement can be used differently to specify only 3 characters after decimal point:\n",
    "\n",
    "print('stat=%.3f , p=%.3f' %(stat,p))\n",
    "\n",
    "# the above code returns values of stat and P value\n",
    "# if p value is greater than 0.05 then its gaussian/normal data, \n",
    "\n",
    "if p > 0.05:\n",
    "    print('probably Gaussian/normal data')\n",
    "else:\n",
    "    print('probably not gaussian/ not normal data')"
   ]
  },
  {
   "cell_type": "code",
   "execution_count": 4,
   "metadata": {},
   "outputs": [
    {
     "data": {
      "text/plain": [
       "<AxesSubplot:>"
      ]
     },
     "execution_count": 4,
     "metadata": {},
     "output_type": "execute_result"
    },
    {
     "data": {
      "image/png": "[encoded data removed]",
      "text/plain": [
       "<Figure size 432x288 with 1 Axes>"
      ]
     },
     "metadata": {
      "needs_background": "light"
     },
     "output_type": "display_data"
    }
   ],
   "source": [
    "# now lets just use the above code and work with different data set\n",
    "\n",
    "import numpy as np\n",
    "import pandas as pd\n",
    "import seaborn as sns\n",
    "import matplotlib.pyplot as plt\n",
    "\n",
    "ks= sns.load_dataset('titanic')\n",
    "\n",
    "# now first lets try to make histogram of age col\n",
    "\n",
    "ks['age'].hist()\n"
   ]
  },
  {
   "cell_type": "code",
   "execution_count": 5,
   "metadata": {},
   "outputs": [
    {
     "name": "stderr",
     "output_type": "stream",
     "text": [
      "c:\\Users\\AhmadLap\\AppData\\Local\\Programs\\Python\\Python310\\lib\\site-packages\\seaborn\\_decorators.py:36: FutureWarning: Pass the following variable as a keyword arg: x. From version 0.12, the only valid positional argument will be `data`, and passing other arguments without an explicit keyword will result in an error or misinterpretation.\n",
      "  warnings.warn(\n"
     ]
    },
    {
     "data": {
      "text/plain": [
       "<AxesSubplot:xlabel='age'>"
      ]
     },
     "execution_count": 5,
     "metadata": {},
     "output_type": "execute_result"
    },
    {
     "data": {
      "image/png": "[encoded data removed]",
      "text/plain": [
       "<Figure size 432x288 with 1 Axes>"
      ]
     },
     "metadata": {
      "needs_background": "light"
     },
     "output_type": "display_data"
    }
   ],
   "source": [
    "# the above histogram doesnt tell much about the normality of data\n",
    "# lets create a box plot\n",
    "\n",
    "sns.boxplot(ks['age'])"
   ]
  },
  {
   "cell_type": "code",
   "execution_count": 6,
   "metadata": {},
   "outputs": [
    {
     "name": "stdout",
     "output_type": "stream",
     "text": [
      "stat=nan , p=1.000\n",
      "probably Gaussian/normal data\n"
     ]
    }
   ],
   "source": [
    "# Normality test for above data,\n",
    "# because we cant tell exactly what the obove boxplot tells, and \"median line\" is not in center\n",
    "# for this we need stat tests, and library scipy\n",
    "# copy the same previous shapiro code \n",
    "\n",
    "from scipy.stats import shapiro\n",
    "stat, p = shapiro(ks['age'])\n",
    "\n",
    "print('stat=%.3f , p=%.3f' %(stat,p))\n",
    "\n",
    "if p > 0.05:\n",
    "    print('probably Gaussian/normal data')\n",
    "else:\n",
    "    print('probably not gaussian/ not normal data')\n",
    "\n",
    "\n"
   ]
  },
  {
   "cell_type": "code",
   "execution_count": 7,
   "metadata": {},
   "outputs": [],
   "source": [
    "# it says the above data is normal\n",
    "# but the boxplot's median line is not in center\n",
    "#lets drop null values and see the box plot and shapiro test again"
   ]
  },
  {
   "cell_type": "code",
   "execution_count": 8,
   "metadata": {},
   "outputs": [
    {
     "name": "stdout",
     "output_type": "stream",
     "text": [
      "Data is normally distributed\n"
     ]
    },
    {
     "name": "stderr",
     "output_type": "stream",
     "text": [
      "c:\\Users\\AhmadLap\\AppData\\Local\\Programs\\Python\\Python310\\lib\\site-packages\\seaborn\\_decorators.py:36: FutureWarning: Pass the following variable as a keyword arg: x. From version 0.12, the only valid positional argument will be `data`, and passing other arguments without an explicit keyword will result in an error or misinterpretation.\n",
      "  warnings.warn(\n"
     ]
    },
    {
     "data": {
      "image/png": "[encoded data removed]",
      "text/plain": [
       "<Figure size 432x288 with 1 Axes>"
      ]
     },
     "metadata": {
      "needs_background": "light"
     },
     "output_type": "display_data"
    }
   ],
   "source": [
    "from scipy.stats import shapiro\n",
    "ks= ks.dropna()\n",
    "sns.boxplot(ks['age'])\n",
    "# null values droped, now lets check with shapiro test\n",
    "\n",
    "stat,p = shapiro(ks['age'])\n",
    "if p>0.05 :\n",
    "    print('Data is normally distributed')\n",
    "else:\n",
    "    print('Data is not Normally Distributed')"
   ]
  },
  {
   "cell_type": "code",
   "execution_count": 9,
   "metadata": {},
   "outputs": [
    {
     "name": "stderr",
     "output_type": "stream",
     "text": [
      "c:\\Users\\AhmadLap\\AppData\\Local\\Programs\\Python\\Python310\\lib\\site-packages\\seaborn\\_decorators.py:36: FutureWarning: Pass the following variable as a keyword arg: x. From version 0.12, the only valid positional argument will be `data`, and passing other arguments without an explicit keyword will result in an error or misinterpretation.\n",
      "  warnings.warn(\n"
     ]
    },
    {
     "data": {
      "text/plain": [
       "<AxesSubplot:xlabel='fare'>"
      ]
     },
     "execution_count": 9,
     "metadata": {},
     "output_type": "execute_result"
    },
    {
     "data": {
      "image/png": "[encoded data removed]",
      "text/plain": [
       "<Figure size 432x288 with 1 Axes>"
      ]
     },
     "metadata": {
      "needs_background": "light"
     },
     "output_type": "display_data"
    }
   ],
   "source": [
    "# Now lets check another variable\n",
    "# same data but with \"Fare\" VAriable/column\n",
    "# without dropping null\n",
    "\n",
    "import numpy as np\n",
    "import pandas as pd\n",
    "import seaborn as sns\n",
    "import matplotlib.pyplot as plt\n",
    "\n",
    "ks= sns.load_dataset('titanic')\n",
    "\n",
    "sns.boxplot(ks['fare'])\n"
   ]
  },
  {
   "cell_type": "code",
   "execution_count": 10,
   "metadata": {},
   "outputs": [
    {
     "name": "stdout",
     "output_type": "stream",
     "text": [
      "p= 1.0789998175301091e-43\n",
      "stat= 0.5218914747238159\n",
      "Data is not Normally Distributed\n"
     ]
    }
   ],
   "source": [
    "# Lets check the normality of \"FAre\" data\n",
    "\n",
    "from scipy.stats import shapiro\n",
    "stat,p = shapiro(ks['fare'])\n",
    "print(\"p=\" , p)\n",
    "print(\"stat=\" , stat)\n",
    "if p>0.05 :\n",
    "    print('Data is normal')\n",
    "else:\n",
    "    print('Data is not Normally Distributed')"
   ]
  },
  {
   "cell_type": "code",
   "execution_count": 11,
   "metadata": {},
   "outputs": [],
   "source": [
    "# the data of col \"Fare\" is not normal, Although it shows pvalue=1.0 and that is greater than 0.05 meaning Data is normal BUT\n",
    "# in the end there is exponent with poer -43 that means the values is nagative.\n",
    "# lets draw histo plot to visualize"
   ]
  },
  {
   "cell_type": "code",
   "execution_count": 12,
   "metadata": {},
   "outputs": [
    {
     "data": {
      "text/plain": [
       "<AxesSubplot:>"
      ]
     },
     "execution_count": 12,
     "metadata": {},
     "output_type": "execute_result"
    },
    {
     "data": {
      "image/png": "[encoded data removed]",
      "text/plain": [
       "<Figure size 432x288 with 1 Axes>"
      ]
     },
     "metadata": {
      "needs_background": "light"
     },
     "output_type": "display_data"
    }
   ],
   "source": [
    "ks['fare'].hist()\n",
    "\n",
    "# see the data is not normal"
   ]
  },
  {
   "cell_type": "markdown",
   "metadata": {},
   "source": [
    "## -2 Corelation Test\n",
    "\n",
    "### -1 Pearson's correlation coefficent\n",
    "    It Tests whether two samples have a linear relationship.(matlab aik k barhny sey doosra barh rha hy k nhi)\n",
    "\n",
    "**Assumptions**\n",
    "1. Observations in each sample are independent and identically distributed(iid)\n",
    "2. Observations in each sample are Normally distributed\n",
    "3. Observations in each sample have the same varience\n",
    "4. Interpretation\n",
    "   \n",
    "H0: The two samples are independent \\\n",
    "H1: There is dependency between the samples\n",
    "\n",
    "- Pearson = Normally distributed data ( Parametric ) - Continuous Data\n",
    "- Spearsman = Non-Normall Distributed ( Non Parametric) - Continuous Data"
   ]
  },
  {
   "cell_type": "code",
   "execution_count": 13,
   "metadata": {},
   "outputs": [
    {
     "name": "stdout",
     "output_type": "stream",
     "text": [
      "p= 0.027872969514496207\n",
      "stat= 0.6879696368388862\n",
      "Probably dependent(correlation exist)\n"
     ]
    }
   ],
   "source": [
    "# Example of Pearson's correlation Test\n",
    "\n",
    "from scipy.stats import pearsonr\n",
    "data1 = [0.873, 2.817, 0.121, -0.945, -0.055, -1.436, 0.360, -1.478, -1.637, -1.869]\n",
    "data2 = [0.353, 3.517, 0.125, -7.545, -0.555, -1.536, 3.350, -1.578, -3.537, -1.579]\n",
    "\n",
    "stat, p = pearsonr(data1 , data2)\n",
    "print(\"p=\" , p)\n",
    "print(\"stat=\" , stat)\n",
    "\n",
    "if p > 0.05:\n",
    "    print('Probably Independent(no correlation)')\n",
    "else:\n",
    "    print('Probably dependent(correlation exist)')"
   ]
  },
  {
   "cell_type": "code",
   "execution_count": 14,
   "metadata": {},
   "outputs": [
    {
     "name": "stdout",
     "output_type": "stream",
     "text": [
      "p= 0.223185916258614\n",
      "stat= -0.09073036394094937\n",
      "Probably Independent(no correlation)\n"
     ]
    }
   ],
   "source": [
    "# now lets run this test with titanic data\n",
    "\n",
    "from scipy.stats import pearsonr\n",
    "\n",
    "ks = sns.load_dataset('titanic')\n",
    "\n",
    "# lets see if there is corelation between cols of titanic data (age and fare)\n",
    "# we have to remove NaN values otherwise it will give error(\"ValueError: array must not contain infs or NaNs\")\n",
    "ks=ks.dropna()\n",
    "stat, p = pearsonr(ks['age'] , ks['fare'])\n",
    "print(\"p=\" , p)\n",
    "print(\"stat=\" , stat)\n",
    "\n",
    "if p > 0.05:\n",
    "    print('Probably Independent(no correlation)')\n",
    "else:\n",
    "    print('Probably dependent(correlation exist)')"
   ]
  },
  {
   "cell_type": "markdown",
   "metadata": {},
   "source": [
    "### -2 Spearman's Rank Correlation\n",
    "It tests whether two samples have monotonic relationships\n",
    "\n",
    "**Assumption**\n",
    "1. Observations in each sample are independent and identically distributed(iid)\n",
    "2. Observations in each sample can be ranked\n",
    "3. Interpretation\n",
    "\n",
    "H0: The samples are independent \\\n",
    "H1: There is dependency betweeen samples"
   ]
  },
  {
   "cell_type": "code",
   "execution_count": 15,
   "metadata": {},
   "outputs": [
    {
     "name": "stdout",
     "output_type": "stream",
     "text": [
      "p= 0.0016368033159867143\n",
      "stat= 0.8545454545454544\n",
      "Probably dependent(correlation exist)\n"
     ]
    }
   ],
   "source": [
    "# Example of Spearman's Rank Correlation test\n",
    "\n",
    "from scipy.stats import spearmanr\n",
    "data1 = [0.873, 2.817, 0.121, -0.945, -0.055, -1.436, 0.360, -1.478, -1.637, -1.869]\n",
    "data2 = [0.353, 3.517, 0.125, -7.545, -0.555, -1.536, 3.350, -1.578, -3.537, -1.579]\n",
    "\n",
    "stat, p = spearmanr(data1, data2)\n",
    "print(\"p=\" , p)\n",
    "print(\"stat=\" , stat)\n",
    "\n",
    "if p > 0.05:\n",
    "    print('Probably Independent(no correlation)')\n",
    "else:\n",
    "    print('Probably dependent(correlation exist)')"
   ]
  },
  {
   "cell_type": "markdown",
   "metadata": {},
   "source": [
    "## 3- Chi-squared Test\n",
    "It test whether two Categorical variables are Independent or related\n",
    "\n",
    "**Assumptions**\n",
    "Observations used in the calculation of the contingency table are independent. 25 or more examples in each cell of the contingency table.\n",
    "Interpretation:\n",
    "\n",
    "H0: The two samples are independent \\\n",
    "H1: There is dependency between samples"
   ]
  },
  {
   "cell_type": "markdown",
   "metadata": {},
   "source": [
    "####  Youtube  comments under this video, I found helpful:\n",
    "To apply Chi-squared Test on Titanic data, you will need to create a contingency table first.\n",
    "For that you dont need to encode data in to Numerical values, Chi-squared test is devised for Categorical Variables. \n",
    "\n",
    "```\n",
    "from scipy.stats import chi2_contingency\n",
    "boat = boat.dropna()\n",
    "data1 = boat['alive']\n",
    "data2 = boat['who']\n",
    "Create table between 2 categorical values\n",
    "table = pd.crosstab(data1, data2, margins = False)\n",
    "print(table)\n",
    "```\n",
    "pass this table to chi2_contingency function"
   ]
  },
  {
   "cell_type": "markdown",
   "metadata": {},
   "source": [
    "### One hot encoding to encode data in numerical values "
   ]
  },
  {
   "cell_type": "code",
   "execution_count": 16,
   "metadata": {},
   "outputs": [],
   "source": [
    "# categorical_col = boat[['alive','who']]\n",
    "# categorical_col.head()\n",
    "# #example using scikit\n",
    "# from sklearn.preprocessing import LabelEncoder, OneHotEncoder\n",
    "\n",
    "# #apply the one hot encoder\n",
    "# encoder = OneHotEncoder(categories='auto')\n",
    "# encoder.fit(categorical_col)\n",
    "# df4_OneHot = encoder.transform(categorical_col).toarray()\n",
    "# print('Transformed by One-hot Encoding: ')\n",
    "# print(df4_OneHot)\n",
    "# # encode labels with value between 0 and n_classes-1\n",
    "# encoder = LabelEncoder()\n",
    "# boat[['alive','who']] = categorical_col.apply(encoder.fit_transform)\n",
    "# print('Replacing categories by numerical labels: ')\n",
    "# print(boat[['alive','who']].head())"
   ]
  },
  {
   "cell_type": "code",
   "execution_count": 17,
   "metadata": {},
   "outputs": [
    {
     "name": "stdout",
     "output_type": "stream",
     "text": [
      "who    child  man  woman\n",
      "alive                   \n",
      "no         2   53      4\n",
      "yes       11   34     78\n"
     ]
    }
   ],
   "source": [
    "# Example of the Chi-Squared  test\n",
    "from scipy.stats import chi2_contingency\n",
    "ks = ks.dropna()\n",
    "data1 = ks['alive']\n",
    "data2 = ks['who']\n",
    "table = pd.crosstab(data1, data2, margins = False)\n",
    "print(table)"
   ]
  },
  {
   "cell_type": "code",
   "execution_count": 18,
   "metadata": {},
   "outputs": [
    {
     "name": "stdout",
     "output_type": "stream",
     "text": [
      "p= 0.873028283380073\n",
      "stat= 0.27157465150403504\n",
      "Probably Independent(no correlation)\n"
     ]
    }
   ],
   "source": [
    "# Example of Chi-squared Test\n",
    "\n",
    "from scipy.stats import chi2_contingency\n",
    "table= [[10,20,30],[6,9,17]]\n",
    "stat, p, dof, expected = chi2_contingency(table)\n",
    "print(\"p=\" , p)\n",
    "print(\"stat=\" , stat)\n",
    "if p > 0.05:\n",
    "    print('Probably Independent(no correlation)')\n",
    "else:\n",
    "    print('Probably dependent(correlation exist)')"
   ]
  },
  {
   "cell_type": "markdown",
   "metadata": {},
   "source": [
    "## -3 Parametric Statristical hypothesis Test\n",
    "### 1- Student's T-Test\n",
    "It tests whether the means of two independent samples are significantly different.\n",
    "\n",
    "**Assumptions**\n",
    "1. Observations in each sample are independent and identically distributed(iid)\n",
    "2. Observations in each sample are Normally distributed\n",
    "3. Observations in each sample have the same varience\n",
    "4. Interpretation\n",
    "\n",
    "H0: The means of samples are equal \\\n",
    "H1: The means of samples are unequal\n"
   ]
  },
  {
   "cell_type": "code",
   "execution_count": 19,
   "metadata": {},
   "outputs": [
    {
     "name": "stdout",
     "output_type": "stream",
     "text": [
      "stat=-0.326, p=0.748\n",
      "Probably the same dataset\n"
     ]
    }
   ],
   "source": [
    "# Example of the Student's t-test\n",
    "from scipy.stats import ttest_ind\n",
    "data1 = [0.873, 2.817, 0.121, -0.945, -0.055, -1.436, 0.360, -1.478, -1.637, -1.869]\n",
    "data2 = [1.142, -0.432, -0.938, -0.729, -0.846, -0.157, 0.500, 1.183, -1.075, -0.169]\n",
    "\n",
    "stat, p = ttest_ind(data1, data2)\n",
    "print('stat=%.3f, p=%.3f' % (stat, p))\n",
    "if p > 0.05:\n",
    "  print('Probably the same dataset')\n",
    "else:\n",
    "  print('Probably different data set')"
   ]
  },
  {
   "cell_type": "code",
   "execution_count": 20,
   "metadata": {},
   "outputs": [
    {
     "name": "stdout",
     "output_type": "stream",
     "text": [
      "stat=-7.481, p=0.000\n",
      "Probably different data set\n"
     ]
    }
   ],
   "source": [
    "# Example of the Student's t-test\n",
    "from scipy.stats import ttest_ind\n",
    "data1 = ks['age']\n",
    "data2 = ks['fare']\n",
    "stat, p = ttest_ind(data1, data2)\n",
    "print('stat=%.3f, p=%.3f' % (stat, p))\n",
    "if p > 0.05:\n",
    "  print('Probably the same dataset')\n",
    "else:\n",
    "  print('Probably different data set')"
   ]
  },
  {
   "cell_type": "markdown",
   "metadata": {},
   "source": [
    "### 2- Paired Student's T-Test\n",
    "It tests whether the means of two paired samples are significantly different, \n",
    "\n",
    "**Assumptions**\n",
    "1. Observations in each sample are independent and identically distributed(iid)\n",
    "2. Observations in each sample are Normally distributed\n",
    "3. Observations in each sample have the same varience\n",
    "4. Observations across all samples are paired\n",
    "\n",
    "Interpretation\n",
    "\n",
    "H0: The means of samples are equal \\\n",
    "H1: The means of samples are unequal"
   ]
  },
  {
   "cell_type": "code",
   "execution_count": 21,
   "metadata": {},
   "outputs": [
    {
     "name": "stdout",
     "output_type": "stream",
     "text": [
      "stat=-0.334, p=0.746\n",
      "Probably the same distribution\n"
     ]
    }
   ],
   "source": [
    "# Example of the Paired Student's t-test\n",
    "from scipy.stats import ttest_rel\n",
    "data1 = [0.873, 2.817, 0.121, -0.945, -0.055, -1.436, 0.360, -1.478, -1.637, -1.869]\n",
    "data2 = [1.142, -0.432, -0.938, -0.729, -0.846, -0.157, 0.500, 1.183, -1.075, -0.169]\n",
    "stat, p = ttest_rel(data1, data2)\n",
    "print('stat=%.3f, p=%.3f' % (stat, p))\n",
    "if p > 0.05:\n",
    "  print('Probably the same distribution')\n",
    "else:\n",
    "  print('Probably different distributions')"
   ]
  },
  {
   "cell_type": "code",
   "execution_count": 22,
   "metadata": {},
   "outputs": [
    {
     "name": "stdout",
     "output_type": "stream",
     "text": [
      "stat=-7.351, p=0.000\n",
      "Probably different distributions\n"
     ]
    }
   ],
   "source": [
    "# Example of the Paired Student's t-test with titanic data\n",
    "from scipy.stats import ttest_rel\n",
    "data1 = ks['age']\n",
    "data2 = ks['fare']\n",
    "stat, p = ttest_rel(data1, data2)\n",
    "print('stat=%.3f, p=%.3f' % (stat, p))\n",
    "if p > 0.05:\n",
    "  print('Probably the same distribution')\n",
    "else:\n",
    "  print('Probably different distributions')"
   ]
  },
  {
   "cell_type": "markdown",
   "metadata": {},
   "source": [
    "## -4 Analysis of Variance Test (ANOVA)\n",
    "It tests whether the means of \"two or more\" independent samples are significantly different.\n",
    "**Assumptions**\n",
    "1. Observations in each sample are independent and identically distributed(iid)\n",
    "2. Observations in each sample are Normally distributed\n",
    "3. Observations in each sample have the same varience\n",
    "4. Observations across all samples are paired\n",
    "\n",
    "Interpretation\n",
    "\n",
    "H0: The means of samples are equal \\\n",
    "H1: The means of samples are unequal\n"
   ]
  },
  {
   "cell_type": "code",
   "execution_count": 23,
   "metadata": {},
   "outputs": [
    {
     "name": "stdout",
     "output_type": "stream",
     "text": [
      "stat=0.096, p=0.908\n",
      "Probably the same distribution\n"
     ]
    }
   ],
   "source": [
    "# Example of Analysis of Variance Test(ANOVA) \n",
    "# Tests whether means of 2 or more independent samples are significally different\n",
    "\n",
    "from scipy.stats import f_oneway\n",
    "\n",
    "data1 = [0.873, 2.817, 0.121, -0.945, -0.055, -1.436, 0.360, -1.478, -1.637, -1.869]\n",
    "data2 = [1.142, -0.432, -0.938, -0.729, -0.846, -0.157, 0.500, 1.183, -1.075, -0.169]\n",
    "data3 = [-0.208, 0.696, 0.928, -1.148, -0.213, 0.229, 0.137, 0.269, -0.870, -1.204]\n",
    "\n",
    "stat,p = f_oneway(data1, data2, data3)\n",
    "print('stat=%.3f, p=%.3f' % (stat, p))\n",
    "if p > 0.05:\n",
    "  print('Probably the same distribution')\n",
    "else:\n",
    "  print('Probably different distributions')\n"
   ]
  }
 ],
 "metadata": {
  "interpreter": {
   "hash": "dbb56158ff56509327459026193bd02828d997d92d7d0729f27dd91cd3b059da"
  },
  "kernelspec": {
   "display_name": "Python 3.10.4 64-bit",
   "language": "python",
   "name": "python3"
  },
  "language_info": {
   "codemirror_mode": {
    "name": "ipython",
    "version": 3
   },
   "file_extension": ".py",
   "mimetype": "text/x-python",
   "name": "python",
   "nbconvert_exporter": "python",
   "pygments_lexer": "ipython3",
   "version": "3.10.4"
  },
  "orig_nbformat": 4
 },
 "nbformat": 4,
 "nbformat_minor": 2
}
